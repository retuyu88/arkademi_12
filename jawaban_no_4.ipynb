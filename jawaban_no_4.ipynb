{
 "cells": [
  {
   "cell_type": "code",
   "execution_count": 84,
   "metadata": {},
   "outputs": [
    {
     "name": "stdout",
     "output_type": "stream",
     "text": [
      "Rectangle Star Pattern\n",
      "* = = = = = = = = = = = = = = = = = = = * \n",
      "* = = = = = = = = = = = = = = = = = = = * \n",
      "* = = = = = = = = = = = = = = = = = = = * \n",
      "* = = = = = = = = = = = = = = = = = = = * \n",
      "* = = = = = = = = = = = = = = = = = = = * \n",
      "* = = = = = = = = = = = = = = = = = = = * \n",
      "* = = = = = = = = = = = = = = = = = = = * \n",
      "* = = = = = = = = = = = = = = = = = = = * \n",
      "* = = = = = = = = = = = = = = = = = = = * \n",
      "* = = = = = = = = = = = = = = = = = = = * \n",
      "* * * * * * * * * * * * * * * * * * * * * \n",
      "* = = = = = = = = = = = = = = = = = = = * \n",
      "* = = = = = = = = = = = = = = = = = = = * \n",
      "* = = = = = = = = = = = = = = = = = = = * \n",
      "* = = = = = = = = = = = = = = = = = = = * \n",
      "* = = = = = = = = = = = = = = = = = = = * \n",
      "* = = = = = = = = = = = = = = = = = = = * \n",
      "* = = = = = = = = = = = = = = = = = = = * \n",
      "* = = = = = = = = = = = = = = = = = = = * \n",
      "* = = = = = = = = = = = = = = = = = = = * \n",
      "* = = = = = = = = = = = = = = = = = = = * \n"
     ]
    }
   ],
   "source": [
    "ukuran = 21\n",
    "print(\"Rectangle Star Pattern\")\n",
    "i = 0\n",
    "while(i < ukuran):\n",
    "    j = 0\n",
    "    while(j < ukuran):\n",
    "        if (j == 0) or (j == ukuran-1):\n",
    "            print('*', end = ' ')\n",
    "        elif (i == (ukuran/2)+0.5-1):\n",
    "            print('*', end = ' ')\n",
    "        else:\n",
    "            print('=', end = ' ')\n",
    "        j = j + 1\n",
    "    i = i + 1\n",
    "    print()"
   ]
  },
  {
   "cell_type": "code",
   "execution_count": 80,
   "metadata": {},
   "outputs": [
    {
     "data": {
      "text/plain": [
       "11.0"
      ]
     },
     "execution_count": 80,
     "metadata": {},
     "output_type": "execute_result"
    }
   ],
   "source": [
    "(21/2)+0.5"
   ]
  },
  {
   "cell_type": "code",
   "execution_count": null,
   "metadata": {},
   "outputs": [],
   "source": []
  }
 ],
 "metadata": {
  "kernelspec": {
   "display_name": "Python 3",
   "language": "python",
   "name": "python3"
  },
  "language_info": {
   "codemirror_mode": {
    "name": "ipython",
    "version": 3
   },
   "file_extension": ".py",
   "mimetype": "text/x-python",
   "name": "python",
   "nbconvert_exporter": "python",
   "pygments_lexer": "ipython3",
   "version": "3.7.3"
  }
 },
 "nbformat": 4,
 "nbformat_minor": 2
}
