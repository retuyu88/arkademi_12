{
 "cells": [
  {
   "cell_type": "code",
   "execution_count": 95,
   "metadata": {},
   "outputs": [],
   "source": [
    "\n",
    "\n",
    "def persegi(ukuran):\n",
    "    ukuran = int(ukuran)\n",
    "    print(\"Ukuran Persegi = \",ukuran)\n",
    "    i = 0\n",
    "    while(i < ukuran):\n",
    "        j = 0\n",
    "        while(j < ukuran):\n",
    "            if (j == 0) or (j == ukuran-1):\n",
    "                print('*', end = ' ')\n",
    "            elif (i == (ukuran/2)+0.5-1):\n",
    "                print('*', end = ' ')\n",
    "            else:\n",
    "                print('=', end = ' ')\n",
    "            j = j + 1\n",
    "        i = i + 1\n",
    "        print()"
   ]
  },
  {
   "cell_type": "code",
   "execution_count": 97,
   "metadata": {},
   "outputs": [
    {
     "name": "stdout",
     "output_type": "stream",
     "text": [
      "masukan jumlah input = 11\n",
      "Ukuran Persegi =  11\n",
      "* = = = = = = = = = * \n",
      "* = = = = = = = = = * \n",
      "* = = = = = = = = = * \n",
      "* = = = = = = = = = * \n",
      "* = = = = = = = = = * \n",
      "* * * * * * * * * * * \n",
      "* = = = = = = = = = * \n",
      "* = = = = = = = = = * \n",
      "* = = = = = = = = = * \n",
      "* = = = = = = = = = * \n",
      "* = = = = = = = = = * \n"
     ]
    }
   ],
   "source": [
    "ukuran = input(\"masukan jumlah input = \")\n",
    "persegi(ukuran)"
   ]
  },
  {
   "cell_type": "code",
   "execution_count": null,
   "metadata": {},
   "outputs": [],
   "source": []
  }
 ],
 "metadata": {
  "kernelspec": {
   "display_name": "Python 3",
   "language": "python",
   "name": "python3"
  },
  "language_info": {
   "codemirror_mode": {
    "name": "ipython",
    "version": 3
   },
   "file_extension": ".py",
   "mimetype": "text/x-python",
   "name": "python",
   "nbconvert_exporter": "python",
   "pygments_lexer": "ipython3",
   "version": "3.7.3"
  }
 },
 "nbformat": 4,
 "nbformat_minor": 2
}
