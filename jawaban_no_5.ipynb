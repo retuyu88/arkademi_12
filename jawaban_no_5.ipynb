{
 "cells": [
  {
   "cell_type": "code",
   "execution_count": 57,
   "metadata": {},
   "outputs": [],
   "source": [
    "import random\n",
    "import math\n",
    "\n",
    "def random_angka(x):\n",
    "    char = '0123456789abcdefghijklmnopqrstuvwxyz'\n",
    "    random_hasil = []\n",
    "    length = 32\n",
    "    for i in range(x):\n",
    "        random_ = ''.join(random.choice(char) for i in range(length))\n",
    "        #mencegah kesamaan antara hasil random\n",
    "        while random_ in random_hasil:\n",
    "            random_ = ''.join(random.choice(char) for i in range(length))\n",
    "        random_hasil.append(random_)\n",
    "    print (\"\\n\".join(random_hasil))"
   ]
  },
  {
   "cell_type": "code",
   "execution_count": 58,
   "metadata": {},
   "outputs": [
    {
     "name": "stdout",
     "output_type": "stream",
     "text": [
      "lyjsn052klv17llmxb3vt2kdz3rn7v8b\n",
      "mlwr34s8qpj3zj0zvk1nc82x1kklvxxt\n",
      "x9htwwpuk9im71pnjmu1pjty5vtxqcrg\n",
      "swpvp04k8222v8cud0fh34iynuvt1kkx\n",
      "i6mb9tk570bnprcykuooz3yt56w9mv09\n",
      "0a7nnv26c13b5kb78p794t4v8udjjsbb\n",
      "d36qnch2g17an2bvcpy447d8os8kagl8\n",
      "c67ulphvh8f4k63f6bmkfu4cbmftnca1\n",
      "yc6b2en0ndd7pfe4m31yl00xe7zg0sp0\n",
      "i9hjbtp9wxg62t5awnmwjbafhtxdofni\n"
     ]
    }
   ],
   "source": [
    "random_angka(10)"
   ]
  },
  {
   "cell_type": "code",
   "execution_count": null,
   "metadata": {},
   "outputs": [],
   "source": []
  },
  {
   "cell_type": "code",
   "execution_count": null,
   "metadata": {},
   "outputs": [],
   "source": []
  }
 ],
 "metadata": {
  "kernelspec": {
   "display_name": "Python 3",
   "language": "python",
   "name": "python3"
  },
  "language_info": {
   "codemirror_mode": {
    "name": "ipython",
    "version": 3
   },
   "file_extension": ".py",
   "mimetype": "text/x-python",
   "name": "python",
   "nbconvert_exporter": "python",
   "pygments_lexer": "ipython3",
   "version": "3.7.3"
  }
 },
 "nbformat": 4,
 "nbformat_minor": 2
}
